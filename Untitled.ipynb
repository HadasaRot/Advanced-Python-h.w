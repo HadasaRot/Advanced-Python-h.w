{
 "cells": [
  {
   "cell_type": "code",
   "execution_count": 1,
   "id": "ec2585fe-8776-47c2-aa63-a8bf570065ab",
   "metadata": {},
   "outputs": [
    {
     "name": "stdout",
     "output_type": "stream",
     "text": [
      "Collecting numpy\n",
      "  Downloading numpy-2.2.5-cp313-cp313-win_amd64.whl.metadata (60 kB)\n",
      "Downloading numpy-2.2.5-cp313-cp313-win_amd64.whl (12.6 MB)\n",
      "   ---------------------------------------- 0.0/12.6 MB ? eta -:--:--\n",
      "   --- ------------------------------------ 1.0/12.6 MB 7.4 MB/s eta 0:00:02\n",
      "   -------- ------------------------------- 2.6/12.6 MB 6.9 MB/s eta 0:00:02\n",
      "   ------------ --------------------------- 3.9/12.6 MB 6.6 MB/s eta 0:00:02\n",
      "   -------------- ------------------------- 4.7/12.6 MB 5.9 MB/s eta 0:00:02\n",
      "   ------------------- -------------------- 6.0/12.6 MB 5.7 MB/s eta 0:00:02\n",
      "   ---------------------- ----------------- 7.1/12.6 MB 5.7 MB/s eta 0:00:01\n",
      "   -------------------------- ------------- 8.4/12.6 MB 5.8 MB/s eta 0:00:01\n",
      "   --------------------------- ------------ 8.7/12.6 MB 5.2 MB/s eta 0:00:01\n",
      "   ---------------------------- ----------- 8.9/12.6 MB 4.8 MB/s eta 0:00:01\n",
      "   ---------------------------- ----------- 8.9/12.6 MB 4.8 MB/s eta 0:00:01\n",
      "   ----------------------------- ---------- 9.2/12.6 MB 4.1 MB/s eta 0:00:01\n",
      "   ----------------------------- ---------- 9.4/12.6 MB 3.8 MB/s eta 0:00:01\n",
      "   ------------------------------ --------- 9.7/12.6 MB 3.6 MB/s eta 0:00:01\n",
      "   ------------------------------- -------- 10.0/12.6 MB 3.4 MB/s eta 0:00:01\n",
      "   -------------------------------- ------- 10.2/12.6 MB 3.3 MB/s eta 0:00:01\n",
      "   --------------------------------- ------ 10.5/12.6 MB 3.2 MB/s eta 0:00:01\n",
      "   ---------------------------------- ----- 10.7/12.6 MB 3.1 MB/s eta 0:00:01\n",
      "   ---------------------------------- ----- 11.0/12.6 MB 3.0 MB/s eta 0:00:01\n",
      "   ------------------------------------ --- 11.5/12.6 MB 2.8 MB/s eta 0:00:01\n",
      "   ---------------------------------------- 12.6/12.6 MB 2.9 MB/s eta 0:00:00\n",
      "Installing collected packages: numpy\n",
      "Successfully installed numpy-2.2.5\n",
      "Note: you may need to restart the kernel to use updated packages.\n"
     ]
    },
    {
     "name": "stderr",
     "output_type": "stream",
     "text": [
      "\n",
      "[notice] A new release of pip is available: 25.0.1 -> 25.1\n",
      "[notice] To update, run: python.exe -m pip install --upgrade pip\n"
     ]
    }
   ],
   "source": [
    "pip install numpy"
   ]
  },
  {
   "cell_type": "markdown",
   "id": "b75f235e-afe4-46c8-818e-cadb5a65b27f",
   "metadata": {},
   "source": [
    "import numpy as np\n"
   ]
  },
  {
   "cell_type": "markdown",
   "id": "5c84ae93-a331-4de8-bd55-fb25ea7a5e00",
   "metadata": {},
   "source": [
    "//ex1"
   ]
  },
  {
   "cell_type": "code",
   "execution_count": 4,
   "id": "640a8909-1bb2-4701-877b-4b334dde5b0f",
   "metadata": {},
   "outputs": [
    {
     "name": "stdout",
     "output_type": "stream",
     "text": [
      "65\n"
     ]
    }
   ],
   "source": [
    "random_int = np.random.randint(10, 100)\n",
    "print(random_int)"
   ]
  },
  {
   "cell_type": "code",
   "execution_count": 5,
   "id": "1ea65b5f-b2ec-428c-ae7f-f1f034a5094e",
   "metadata": {},
   "outputs": [
    {
     "data": {
      "text/plain": [
       "np.int64(271)"
      ]
     },
     "execution_count": 5,
     "metadata": {},
     "output_type": "execute_result"
    }
   ],
   "source": [
    "random_int_array = np.random.randint(1, 50, size=(10))\n",
    "np.sum(random_int_array)"
   ]
  },
  {
   "cell_type": "code",
   "execution_count": 6,
   "id": "31637b4b-7196-4de4-ba57-5d8e0eba2097",
   "metadata": {},
   "outputs": [
    {
     "data": {
      "text/plain": [
       "np.float64(271.0)"
      ]
     },
     "execution_count": 6,
     "metadata": {},
     "output_type": "execute_result"
    }
   ],
   "source": [
    "np.mean(np.sum(random_int_array))"
   ]
  },
  {
   "cell_type": "markdown",
   "id": "45fa8701-1baa-4c01-93e3-08f8c1cd3ae3",
   "metadata": {},
   "source": [
    "//ex3"
   ]
  },
  {
   "cell_type": "code",
   "execution_count": 12,
   "id": "bffe5724-d242-4d6d-9568-0e7f37bda3c1",
   "metadata": {},
   "outputs": [
    {
     "name": "stdout",
     "output_type": "stream",
     "text": [
      "[ 7 91 30 79 47 75 82 52 23 55 99 99  7 79 99 69 85 92 66 22]\n",
      "[91 79 75 82 52 55 99 99 79 99 69 85 92 66]\n"
     ]
    }
   ],
   "source": [
    "random_int_array = np.random.randint(1, 100, size=(20))\n",
    "greater_than_50 = random_int_array[random_int_array > 50]\n",
    "print(random_int_array)\n",
    "print(greater_than_50)"
   ]
  },
  {
   "cell_type": "code",
   "execution_count": null,
   "id": "757e590e-4940-44f2-9db8-650e15aef8f3",
   "metadata": {},
   "outputs": [],
   "source": []
  }
 ],
 "metadata": {
  "kernelspec": {
   "display_name": "Python 3 (ipykernel)",
   "language": "python",
   "name": "python3"
  },
  "language_info": {
   "codemirror_mode": {
    "name": "ipython",
    "version": 3
   },
   "file_extension": ".py",
   "mimetype": "text/x-python",
   "name": "python",
   "nbconvert_exporter": "python",
   "pygments_lexer": "ipython3",
   "version": "3.13.1"
  }
 },
 "nbformat": 4,
 "nbformat_minor": 5
}
